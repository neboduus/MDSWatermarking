{
 "cells": [
  {
   "cell_type": "code",
   "execution_count": 5,
   "metadata": {},
   "outputs": [],
   "source": [
    "%original image\n",
    "I    = imread('lena.bmp','bmp');\n",
    "%watermarked image\n",
    "Iw   = imread('SSwat.bmp','bmp');\n",
    "\n",
    "[dimx,dimy] = size(Iw);\n",
    "Iw = double(Iw);\n",
    "I  = double(I);\n",
    "\n",
    "% load original watermark\n",
    "load('watermark.mat');\n",
    "\n",
    "% define watermark strength\n",
    "alpha = 0.1;\n",
    "\n",
    "% DCT transform\n",
    "Iw_dct = dct2(Iw);\n",
    "I_dct = dct2(I);\n",
    "\n"
   ]
  },
  {
   "cell_type": "code",
   "execution_count": 14,
   "metadata": {
    "scrolled": false
   },
   "outputs": [],
   "source": [
    "%Coefficient selection for watermarked image\n",
    "Iw_dct_flat = reshape(Iw_dct, 1, dimx*dimy);\n",
    "[Iw_dct_sorted, Iw_indexes_sorted] = sort(abs(Iw_dct_flat), 'descend');\n",
    "\n",
    "%Coefficient selection for original image\n",
    "I_dct_flat = reshape(I_dct, 1, dimx*dimy);\n",
    "[I_dct_sorted, I_indexes_sorted] = sort(abs(I_dct_flat), 'descend');\n",
    "\n",
    "%watermark extraction\n",
    "w_prime = zeros(1, 1000);\n",
    "k = 2;\n",
    "for i=1:1000\n",
    "    w_prime(i) = (Iw_dct_sorted(k)-I_dct_sorted(k)) / (alpha*I_dct_sorted(k));\n",
    "    k = k + 1;\n",
    "end\n",
    "\n"
   ]
  },
  {
   "cell_type": "code",
   "execution_count": 15,
   "metadata": {},
   "outputs": [
    {
     "name": "stdout",
     "output_type": "stream",
     "text": [
      "SIM = 16.020497\n"
     ]
    },
    {
     "name": "stderr",
     "output_type": "stream",
     "text": [
      "\u001b[0;31mUnable to perform assignment because the left and right sides have a different number of elements.\n",
      "\n",
      "\u001b[0m"
     ]
    }
   ],
   "source": [
    "%detection\n",
    "SIM = w * w_prime' / sqrt(w_prime * w_prime');\n",
    "\n",
    "fprintf('SIM = %f\\n', SIM);\n",
    "\n",
    "%Compute threshold\n",
    "rand_ws = round(rand(999,size(w,2)));\n",
    "all_SIM = zeros(1, 1000);\n",
    "all_SIM(1) = SIM;\n",
    "\n",
    "for i = 1 : 999\n",
    "    SIM(i+1) = rand_ws(i) * w_prime' / sqrt(w_prime * w_prime');\n",
    "end\n",
    "\n",
    "all_SIM = abs(all_SIM);\n",
    "all_SIM = sort(all_SIM, 'descend');\n",
    "T = all_SIM(2) + 0.1 * all_SIM(2);\n",
    "\n",
    "%Decision\n",
    "if SIM > T\n",
    "    fprintf('Mark has been found. \\nSIM = %f\\n', SIM);\n",
    "else\n",
    "    fprintf('Mark has been lost. \\nSIM = %f\\n', SIM);\n",
    "end\n",
    "\n",
    "stop_time = cputime;\n",
    "fprintf('Execution time = %0.5f sec\\n',abs( start_time - stop_time));\n"
   ]
  },
  {
   "cell_type": "code",
   "execution_count": 11,
   "metadata": {},
   "outputs": [
    {
     "name": "stdout",
     "output_type": "stream",
     "text": [
      "    PRINT Print or save a figure or model.\n",
      "      A subset of the available options is presented below. For more details\n",
      "      see <a href=\"matlab:helpview([docroot '/matlab/ref/print.html'])\" />the documentation</a>.\n",
      " \n",
      "      PRINT, by itself, prints the current figure to your default printer.\n",
      "      Use the -s option to print the current model instead of the current figure.\n",
      "        print         % print the current figure to the default printer\n",
      "        print -s      % print the current model to the default printer\n",
      " \n",
      "      PRINT(filename, formattype) saves the current figure to a file in the\n",
      "      specified format. Vector graphics, such as PDF ('-dpdf'), and encapsulated\n",
      "      PostScript ('-depsc'), as well as images such as JPEG ('-djpeg') and PNG ('-dpng')\n",
      "      can be created. Use '-d' to specify the formattype option\n",
      "        print(fig, '-dpdf', 'myfigure.pdf'); % save to the 'myfigure.pdf' file\n",
      "      The full list of formats is <a href=\"matlab:helpview([docroot '/matlab/ref/print.html#inputarg_formattype'])\" />documented here</a>.\n",
      " \n",
      "      PRINT(printer, ...) prints the figure or model to the specified printer.\n",
      "      Use '-P' to specify the printer option.\n",
      "        print(fig, '-Pmyprinter'); % print to the printer named 'myprinter'\n",
      " \n",
      "      PRINT(resize,...) resizes the figure to fit the page when printing.\n",
      "      The resize options are valid only for figures, and only for page\n",
      "      formats (PDF, and PS) and printers. Specify resize as either\n",
      "        '-bestfit'  to preserve the figure's aspect ratio or\n",
      "        '-fillpage' to ignore the aspect ratio.\n",
      " \n",
      "    <a href=\"matlab:helpview([docroot '/matlab/ref/print.html'])\" />The documentation</a> contains additonal details and examples, including how to\n",
      "    specify the figure or model to print, adjust the output size and\n",
      "    resolution, save to the clipboard, and specify the renderer to use.\n",
      " \n",
      "    See also SAVEAS, PRINTPREVIEW, SAVEFIG.\n",
      "\n",
      "    Documentation for print\n",
      "       doc print\n",
      "\n",
      "\n"
     ]
    }
   ],
   "source": [
    "help print"
   ]
  },
  {
   "cell_type": "code",
   "execution_count": null,
   "metadata": {},
   "outputs": [],
   "source": []
  }
 ],
 "metadata": {
  "kernelspec": {
   "display_name": "Matlab [conda env:root]",
   "language": "matlab",
   "name": "conda-root-matlab"
  },
  "language_info": {
   "codemirror_mode": "octave",
   "file_extension": ".m",
   "help_links": [
    {
     "text": "MetaKernel Magics",
     "url": "https://metakernel.readthedocs.io/en/latest/source/README.html"
    }
   ],
   "mimetype": "text/x-octave",
   "name": "matlab",
   "version": "0.16.7"
  }
 },
 "nbformat": 4,
 "nbformat_minor": 2
}
